{
 "cells": [
  {
   "cell_type": "markdown",
   "id": "a0f9050e",
   "metadata": {},
   "source": [
    "Pablo Alejandro Aguirre Higuera\n",
    "\n",
    "Matrícula: 263845\n",
    "\n",
    "**Práctica 1. Manejo de Archivos**\n",
    "\n",
    "15/08/2025"
   ]
  },
  {
   "cell_type": "markdown",
   "id": "6366d134",
   "metadata": {},
   "source": [
    "#### **Extracción de datos**"
   ]
  },
  {
   "cell_type": "markdown",
   "id": "3aadf62a",
   "metadata": {},
   "source": [
    "**NOTA:** Al no estar disponible el archivo mbox.txt, se utilzará el archivo mbox-short.txt"
   ]
  },
  {
   "cell_type": "code",
   "execution_count": null,
   "id": "60f8f2aa",
   "metadata": {},
   "outputs": [
    {
     "name": "stdout",
     "output_type": "stream",
     "text": [
      "['0.8475']\n",
      "['0.0000']\n",
      "['0.6178']\n",
      "['0.0000']\n",
      "['0.6961']\n",
      "['0.0000']\n",
      "['0.7565']\n",
      "['0.0000']\n",
      "['0.7626']\n",
      "['0.0000']\n",
      "['0.7556']\n",
      "['0.0000']\n",
      "['0.7002']\n",
      "['0.0000']\n",
      "['0.7615']\n",
      "['0.0000']\n",
      "['0.7601']\n",
      "['0.0000']\n",
      "['0.7605']\n",
      "['0.0000']\n",
      "['0.6959']\n",
      "['0.0000']\n",
      "['0.7606']\n",
      "['0.0000']\n",
      "['0.7559']\n",
      "['0.0000']\n",
      "['0.7605']\n",
      "['0.0000']\n",
      "['0.6932']\n",
      "['0.0000']\n",
      "['0.7558']\n",
      "['0.0000']\n",
      "['0.6526']\n",
      "['0.0000']\n",
      "['0.6948']\n",
      "['0.0000']\n",
      "['0.6528']\n",
      "['0.0000']\n",
      "['0.7002']\n",
      "['0.0000']\n",
      "['0.7554']\n",
      "['0.0000']\n",
      "['0.6956']\n",
      "['0.0000']\n",
      "['0.6959']\n",
      "['0.0000']\n",
      "['0.7556']\n",
      "['0.0000']\n",
      "['0.9846']\n",
      "['0.0000']\n",
      "['0.8509']\n",
      "['0.0000']\n",
      "['0.9907']\n",
      "['0.0000']\n"
     ]
    }
   ],
   "source": [
    "import re\n",
    "man = open(\"mbox-short.txt\")\n",
    "\n",
    "datos = []\n",
    "for linea in man:\n",
    "    linea = linea.rstrip()\n",
    "    \n",
    "    dato = re.findall(r'^X\\S*: ([0-9.]+)', linea)\n",
    "    #Solamente interesan los decimales, por ello se cierra esa parte entre parentesis\n",
    "\n",
    "    if len(dato) > 0:\n",
    "        print(dato)\n",
    "        \n",
    "        datos.append(float(dato[0]))\n",
    "        #Se asegura de no guardar los numeros como texto"
   ]
  },
  {
   "cell_type": "markdown",
   "id": "66763d58",
   "metadata": {},
   "source": [
    "Findall ha arrojado los datos buscados y abajo se puede ver que han sido guardados con exito en la lista \"datos\""
   ]
  },
  {
   "cell_type": "code",
   "execution_count": 27,
   "id": "92e0849d",
   "metadata": {},
   "outputs": [
    {
     "data": {
      "text/plain": [
       "[0.8475,\n",
       " 0.0,\n",
       " 0.6178,\n",
       " 0.0,\n",
       " 0.6961,\n",
       " 0.0,\n",
       " 0.7565,\n",
       " 0.0,\n",
       " 0.7626,\n",
       " 0.0,\n",
       " 0.7556,\n",
       " 0.0,\n",
       " 0.7002,\n",
       " 0.0,\n",
       " 0.7615,\n",
       " 0.0,\n",
       " 0.7601,\n",
       " 0.0,\n",
       " 0.7605,\n",
       " 0.0,\n",
       " 0.6959,\n",
       " 0.0,\n",
       " 0.7606,\n",
       " 0.0,\n",
       " 0.7559,\n",
       " 0.0,\n",
       " 0.7605,\n",
       " 0.0,\n",
       " 0.6932,\n",
       " 0.0,\n",
       " 0.7558,\n",
       " 0.0,\n",
       " 0.6526,\n",
       " 0.0,\n",
       " 0.6948,\n",
       " 0.0,\n",
       " 0.6528,\n",
       " 0.0,\n",
       " 0.7002,\n",
       " 0.0,\n",
       " 0.7554,\n",
       " 0.0,\n",
       " 0.6956,\n",
       " 0.0,\n",
       " 0.6959,\n",
       " 0.0,\n",
       " 0.7556,\n",
       " 0.0,\n",
       " 0.9846,\n",
       " 0.0,\n",
       " 0.8509,\n",
       " 0.0,\n",
       " 0.9907,\n",
       " 0.0]"
      ]
     },
     "execution_count": 27,
     "metadata": {},
     "output_type": "execute_result"
    }
   ],
   "source": [
    "datos"
   ]
  },
  {
   "cell_type": "markdown",
   "id": "dcfbc4ef",
   "metadata": {},
   "source": [
    "#### **Cálculos**"
   ]
  },
  {
   "cell_type": "markdown",
   "id": "f4eb3a7e",
   "metadata": {},
   "source": [
    "**Cantidad de datos extraídos**"
   ]
  },
  {
   "cell_type": "code",
   "execution_count": 28,
   "id": "df07faa5",
   "metadata": {},
   "outputs": [
    {
     "name": "stdout",
     "output_type": "stream",
     "text": [
      "Se extrajeron 54 datos\n"
     ]
    }
   ],
   "source": [
    "print(\"Se extrajeron\", len(datos), \"datos\")"
   ]
  },
  {
   "cell_type": "markdown",
   "id": "93f4cf16",
   "metadata": {},
   "source": [
    "**Sumatoria de los datos**"
   ]
  },
  {
   "cell_type": "code",
   "execution_count": 29,
   "id": "92a681af",
   "metadata": {},
   "outputs": [
    {
     "name": "stdout",
     "output_type": "stream",
     "text": [
      "Los datos suman 20.2694\n"
     ]
    }
   ],
   "source": [
    "print(\"Los datos suman\", sum(datos))"
   ]
  },
  {
   "cell_type": "markdown",
   "id": "e221e64e",
   "metadata": {},
   "source": [
    "**Promedio de los datos**"
   ]
  },
  {
   "cell_type": "code",
   "execution_count": 33,
   "id": "13addced",
   "metadata": {},
   "outputs": [
    {
     "name": "stdout",
     "output_type": "stream",
     "text": [
      "Los datos tienen una media de 0.3754\n"
     ]
    }
   ],
   "source": [
    "promedio = sum(datos) / len(datos)\n",
    "print(f\"Los datos tienen una media de {promedio:.4f}\") #Se limita la media a 4 decimales"
   ]
  },
  {
   "cell_type": "markdown",
   "id": "76c2274a",
   "metadata": {},
   "source": [
    "**Varianza de los datos**"
   ]
  },
  {
   "cell_type": "code",
   "execution_count": 37,
   "id": "7b6cf3c0",
   "metadata": {},
   "outputs": [
    {
     "name": "stdout",
     "output_type": "stream",
     "text": [
      "La varianza de los datos es de 0.1445\n"
     ]
    }
   ],
   "source": [
    "dif = 0\n",
    "for i in datos:\n",
    "\n",
    "    dif += (i - promedio) ** 2\n",
    "\n",
    "varianza = dif / len(datos)\n",
    "print(f\"La varianza de los datos es de {varianza:.4f}\")"
   ]
  }
 ],
 "metadata": {
  "kernelspec": {
   "display_name": "Python 3",
   "language": "python",
   "name": "python3"
  },
  "language_info": {
   "codemirror_mode": {
    "name": "ipython",
    "version": 3
   },
   "file_extension": ".py",
   "mimetype": "text/x-python",
   "name": "python",
   "nbconvert_exporter": "python",
   "pygments_lexer": "ipython3",
   "version": "3.12.2"
  }
 },
 "nbformat": 4,
 "nbformat_minor": 5
}
